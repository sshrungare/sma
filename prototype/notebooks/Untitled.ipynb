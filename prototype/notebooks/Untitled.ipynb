{
 "cells": [
  {
   "cell_type": "code",
   "execution_count": 21,
   "metadata": {},
   "outputs": [],
   "source": [
    "import pandas as pd\n",
    "import matplotlib.pyplot as plt"
   ]
  },
  {
   "cell_type": "code",
   "execution_count": 22,
   "metadata": {
    "collapsed": true
   },
   "outputs": [],
   "source": [
    "def get_average_trades(symbol):\n",
    "    '''\n",
    "    This function returns average number of trades of a given stock\n",
    "    '''\n",
    "    \n",
    "    df = pd.read_csv(\"source/{}.csv\".format(symbol))\n",
    "    average_trade = df['No. of Trades'].mean()\n",
    "    return average_trade\n"
   ]
  },
  {
   "cell_type": "code",
   "execution_count": 23,
   "metadata": {},
   "outputs": [
    {
     "data": {
      "text/plain": [
       "94530.00804828973"
      ]
     },
     "execution_count": 23,
     "metadata": {},
     "output_type": "execute_result"
    }
   ],
   "source": [
    "symbol='reliance'\n",
    "get_average_trades(symbol)\n"
   ]
  },
  {
   "cell_type": "code",
   "execution_count": 32,
   "metadata": {},
   "outputs": [],
   "source": [
    "def plot_closeprice(symbol):\n",
    "    '''\n",
    "    This function plots closeprice of a given stock\n",
    "    '''\n",
    "    \n",
    "    df = pd.read_csv(\"source/{}.csv\".format(symbol))\n",
    "    average_trade = df['Close Price']\n",
    "   # print (average_trade)\n",
    "    df['Close Price'].plot()\n",
    "    plt.show()\n",
    "    return average_trade"
   ]
  },
  {
   "cell_type": "code",
   "execution_count": 33,
   "metadata": {},
   "outputs": [
    {
     "data": {
      "image/png": "[encoded data removed]",
      "text/plain": [
       "<matplotlib.figure.Figure at 0x98de78cd30>"
      ]
     },
     "metadata": {},
     "output_type": "display_data"
    },
    {
     "data": {
      "text/plain": [
       "0      1016.85\n",
       "1      1043.60\n",
       "2      1004.55\n",
       "3       984.20\n",
       "4      1004.15\n",
       "5      1003.95\n",
       "6       999.35\n",
       "7      1016.90\n",
       "8      1035.40\n",
       "9      1030.30\n",
       "10     1001.15\n",
       "11      981.40\n",
       "12      973.05\n",
       "13      970.90\n",
       "14      961.05\n",
       "15      957.50\n",
       "16      962.65\n",
       "17      924.55\n",
       "18      906.55\n",
       "19      946.75\n",
       "20      930.55\n",
       "21      952.60\n",
       "22      940.10\n",
       "23      944.35\n",
       "24      962.30\n",
       "25      949.65\n",
       "26      952.65\n",
       "27      944.10\n",
       "28      950.35\n",
       "29      966.65\n",
       "        ...   \n",
       "467     913.70\n",
       "468     926.65\n",
       "469     931.55\n",
       "470     921.00\n",
       "471     916.15\n",
       "472     915.60\n",
       "473     914.65\n",
       "474     921.50\n",
       "475     919.75\n",
       "476     921.00\n",
       "477     925.95\n",
       "478     918.15\n",
       "479     912.95\n",
       "480     920.40\n",
       "481     929.80\n",
       "482     923.75\n",
       "483     924.20\n",
       "484     921.05\n",
       "485     909.75\n",
       "486     911.15\n",
       "487     914.80\n",
       "488     920.30\n",
       "489     923.25\n",
       "490     928.55\n",
       "491     940.95\n",
       "492     942.35\n",
       "493     937.75\n",
       "494     949.00\n",
       "495     949.15\n",
       "496     922.95\n",
       "Name: Close Price, Length: 497, dtype: float64"
      ]
     },
     "execution_count": 33,
     "metadata": {},
     "output_type": "execute_result"
    }
   ],
   "source": [
    "plot_closeprice(symbol)"
   ]
  },
  {
   "cell_type": "code",
   "execution_count": null,
   "metadata": {
    "collapsed": true
   },
   "outputs": [],
   "source": []
  }
 ],
 "metadata": {
  "kernelspec": {
   "display_name": "Python 3",
   "language": "python",
   "name": "python3"
  },
  "language_info": {
   "codemirror_mode": {
    "name": "ipython",
    "version": 3
   },
   "file_extension": ".py",
   "mimetype": "text/x-python",
   "name": "python",
   "nbconvert_exporter": "python",
   "pygments_lexer": "ipython3",
   "version": "3.6.3"
  }
 },
 "nbformat": 4,
 "nbformat_minor": 2
}
